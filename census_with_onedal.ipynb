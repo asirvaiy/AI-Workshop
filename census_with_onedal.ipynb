{
 "cells": [
  {
   "cell_type": "markdown",
   "metadata": {},
   "source": [
    "# Census with Modin and Intel® oneAPI Data Analytics Library (oneDAL) Accelerated Scikit-Learn and training time comparision "
   ]
  },
  {
   "cell_type": "code",
   "execution_count": 13,
   "metadata": {},
   "outputs": [],
   "source": [
    "# =============================================================\n",
    "# Copyright © 2020 Intel Corporation\n",
    "# \n",
    "# SPDX-License-Identifier: MIT\n",
    "# ============================================================="
   ]
  },
  {
   "cell_type": "markdown",
   "metadata": {
    "pycharm": {
     "name": "#%% md\n"
    }
   },
   "source": [
    "In this example we will be building an end to end machine learning workload with US census from 1970 to 2010.\n",
    "It uses Modin with Ray as backend compute engine for ETL, and uses Ridge Regression from oneDAL accelerated scikit-learn library to train and predict the US total income with education information."
   ]
  },
  {
   "cell_type": "markdown",
   "metadata": {
    "pycharm": {
     "name": "#%% md\n"
    }
   },
   "source": [
    "Let's start by downloading census data to your local disk. <br>\n",
    "Note: Skip this step if you have already downloaded the census data."
   ]
  },
  {
   "cell_type": "code",
   "execution_count": 14,
   "metadata": {},
   "outputs": [
    {
     "name": "stdout",
     "output_type": "stream",
     "text": [
      "--2021-04-20 13:27:02--  https://storage.googleapis.com/intel-optimized-tensorflow/datasets/ipums_education2income_1970-2010.csv.gz\n",
      "Resolving proxy-iind.intel.com (proxy-iind.intel.com)... 10.224.224.80\n",
      "Connecting to proxy-iind.intel.com (proxy-iind.intel.com)|10.224.224.80|:912... connected.\n",
      "Proxy request sent, awaiting response... 200 OK\n",
      "Length: 379658563 (362M) [text/csv]\n",
      "Saving to: ‘ipums_education2income_1970-2010.csv.gz.7’\n",
      "\n",
      "ipums_education2inc 100%[===================>] 362.07M  54.9MB/s    in 6.7s    \n",
      "\n",
      "2021-04-20 13:27:09 (53.8 MB/s) - ‘ipums_education2income_1970-2010.csv.gz.7’ saved [379658563/379658563]\n",
      "\n"
     ]
    }
   ],
   "source": [
    "!wget https://storage.googleapis.com/intel-optimized-tensorflow/datasets/ipums_education2income_1970-2010.csv.gz"
   ]
  },
  {
   "cell_type": "markdown",
   "metadata": {},
   "source": [
    "### With DAAL accelererated Scikit-Learn using intel-python kernal"
   ]
  },
  {
   "cell_type": "markdown",
   "metadata": {
    "pycharm": {
     "name": "#%% md\n"
    }
   },
   "source": [
    "Import"
   ]
  },
  {
   "cell_type": "code",
   "execution_count": 1,
   "metadata": {
    "pycharm": {
     "name": "#%%\n"
    }
   },
   "outputs": [],
   "source": [
    "import os\n",
    "import numpy as np\n",
    "import pandas as pd\n",
    "\n",
    "from sklearn import config_context\n",
    "from sklearn.metrics import mean_squared_error, r2_score"
   ]
  },
  {
   "cell_type": "markdown",
   "metadata": {
    "pycharm": {
     "name": "#%% md\n"
    }
   },
   "source": [
    "Load DAAL accelerated sklearn patch and import packages from the patch"
   ]
  },
  {
   "cell_type": "code",
   "execution_count": 5,
   "metadata": {
    "pycharm": {
     "name": "#%%\n"
    }
   },
   "outputs": [
    {
     "name": "stderr",
     "output_type": "stream",
     "text": [
      "Intel(R) oneAPI Data Analytics Library solvers for sklearn enabled: https://intelpython.github.io/daal4py/sklearn.html\n"
     ]
    }
   ],
   "source": [
    "import daal4py.sklearn\n",
    "daal4py.sklearn.patch_sklearn()\n",
    "\n",
    "from sklearn.model_selection import train_test_split\n",
    "import sklearn.linear_model as lm"
   ]
  },
  {
   "cell_type": "markdown",
   "metadata": {
    "pycharm": {
     "name": "#%% md\n"
    }
   },
   "source": [
    "Read the data from the downloaded archive file"
   ]
  },
  {
   "cell_type": "code",
   "execution_count": 6,
   "metadata": {
    "pycharm": {
     "name": "#%%\n"
    }
   },
   "outputs": [],
   "source": [
    "df = pd.read_csv('ipums_education2income_1970-2010.csv.gz', compression=\"gzip\")"
   ]
  },
  {
   "cell_type": "markdown",
   "metadata": {
    "pycharm": {
     "name": "#%% md\n"
    }
   },
   "source": [
    "ETL"
   ]
  },
  {
   "cell_type": "code",
   "execution_count": 7,
   "metadata": {
    "pycharm": {
     "name": "#%%\n"
    }
   },
   "outputs": [
    {
     "name": "stderr",
     "output_type": "stream",
     "text": [
      "UserWarning: User-defined function verification is still under development in Modin. The function provided is not verified.\n"
     ]
    }
   ],
   "source": [
    "# clean up features\n",
    "keep_cols = [\n",
    "    \"YEAR\", \"DATANUM\", \"SERIAL\", \"CBSERIAL\", \"HHWT\",\n",
    "    \"CPI99\", \"GQ\", \"PERNUM\", \"SEX\", \"AGE\",\n",
    "    \"INCTOT\", \"EDUC\", \"EDUCD\", \"EDUC_HEAD\", \"EDUC_POP\",\n",
    "    \"EDUC_MOM\", \"EDUCD_MOM2\", \"EDUCD_POP2\", \"INCTOT_MOM\", \"INCTOT_POP\",\n",
    "    \"INCTOT_MOM2\", \"INCTOT_POP2\", \"INCTOT_HEAD\", \"SEX_HEAD\",\n",
    "]\n",
    "df = df[keep_cols]\n",
    "\n",
    "# clean up samples with invalid income, education, etc.\n",
    "df = df.query(\"INCTOT != 9999999\")\n",
    "df = df.query(\"EDUC != -1\")\n",
    "df = df.query(\"EDUCD != -1\")\n",
    "\n",
    "# normalize income for inflation\n",
    "df[\"INCTOT\"] = df[\"INCTOT\"] * df[\"CPI99\"]\n",
    "\n",
    "for column in keep_cols:\n",
    "    df[column] = df[column].fillna(-1)\n",
    "    df[column] = df[column].astype(\"float64\")\n",
    "\n",
    "y = df[\"EDUC\"]\n",
    "X = df.drop(columns=[\"EDUC\", \"CPI99\"])"
   ]
  },
  {
   "cell_type": "markdown",
   "metadata": {},
   "source": [
    "Train the model and predict the income"
   ]
  },
  {
   "cell_type": "code",
   "execution_count": null,
   "metadata": {
    "pycharm": {
     "name": "#%%\n"
    }
   },
   "outputs": [],
   "source": [
    "# ML - training and inference\n",
    "import time\n",
    "time_start = time.time()\n",
    "clf = lm.Ridge()\n",
    "\n",
    "mse_values, cod_values = [], []\n",
    "N_RUNS = 50\n",
    "TRAIN_SIZE = 0.9\n",
    "random_state = 777\n",
    "\n",
    "X = np.ascontiguousarray(X, dtype=np.float64)\n",
    "y = np.ascontiguousarray(y, dtype=np.float64)\n",
    "\n",
    "# cross validation\n",
    "for i in range(N_RUNS):\n",
    "    X_train, X_test, y_train, y_test = train_test_split(X, y, train_size=TRAIN_SIZE,\n",
    "                                                        random_state=random_state)\n",
    "    random_state += 777\n",
    "\n",
    "    # training\n",
    "    with config_context(assume_finite=True):\n",
    "        model = clf.fit(X_train, y_train)\n",
    "\n",
    "    # inference\n",
    "    y_pred = model.predict(X_test)\n",
    "\n",
    "    mse_values.append(mean_squared_error(y_test, y_pred))\n",
    "    cod_values.append(r2_score(y_test, y_pred))\n",
    "time_daal = time.time()-time_start\n",
    "time_start = time.time()        \n",
    "print(time_daal)      "
   ]
  },
  {
   "cell_type": "markdown",
   "metadata": {},
   "source": [
    "Check the regression results: mean squared error and r square score"
   ]
  },
  {
   "cell_type": "code",
   "execution_count": 22,
   "metadata": {
    "pycharm": {
     "name": "#%%\n"
    }
   },
   "outputs": [
    {
     "name": "stdout",
     "output_type": "stream",
     "text": [
      "mean MSE ± deviation: 0.032617088 ± 0.000044070\n",
      "mean COD ± deviation: 0.995360062 ± 0.000006368\n"
     ]
    }
   ],
   "source": [
    "mean_mse = sum(mse_values)/len(mse_values)\n",
    "mean_cod = sum(cod_values)/len(cod_values)\n",
    "mse_dev = pow(sum([(mse_value - mean_mse)**2 for mse_value in mse_values])/(len(mse_values) - 1), 0.5)\n",
    "cod_dev = pow(sum([(cod_value - mean_cod)**2 for cod_value in cod_values])/(len(cod_values) - 1), 0.5)\n",
    "print(\"mean MSE ± deviation: {:.9f} ± {:.9f}\".format(mean_mse, mse_dev))\n",
    "print(\"mean COD ± deviation: {:.9f} ± {:.9f}\".format(mean_cod, cod_dev))"
   ]
  },
  {
   "cell_type": "markdown",
   "metadata": {},
   "source": [
    "# Results Comparison"
   ]
  },
  {
   "cell_type": "code",
   "execution_count": 23,
   "metadata": {},
   "outputs": [],
   "source": [
    "%store -r time_nodaal"
   ]
  },
  {
   "cell_type": "code",
   "execution_count": 24,
   "metadata": {},
   "outputs": [],
   "source": [
    "\n",
    "import matplotlib.pyplot as plt\n",
    "%matplotlib inline\n",
    "import numpy as np"
   ]
  },
  {
   "cell_type": "code",
   "execution_count": 25,
   "metadata": {},
   "outputs": [
    {
     "data": {
      "image/png": "[encoded data removed]",
      "text/plain": [
       "<Figure size 432x288 with 1 Axes>"
      ]
     },
     "metadata": {
      "needs_background": "light"
     },
     "output_type": "display_data"
    },
    {
     "name": "stdout",
     "output_type": "stream",
     "text": [
      "speedup: 7.191686636040115\n"
     ]
    }
   ],
   "source": [
    "left = [1,2]\n",
    "pred_times = [time_nodaal,time_daal ]\n",
    "tick_label = ['scikit-learn', 'scikit-learn-daal4p']\n",
    "plt.bar(left, pred_times, tick_label = tick_label, width = 0.5, color = ['red', 'blue'])\n",
    "plt.xlabel('Ridge Regression training time comparison'); plt.ylabel('time,s'); plt.title('Training time,s')\n",
    "plt.show()\n",
    "print(\"speedup:\",time_nodaal/time_daal)"
   ]
  }
 ],
 "metadata": {
  "kernelspec": {
   "display_name": "Python 3",
   "language": "python",
   "name": "python3"
  },
  "language_info": {
   "codemirror_mode": {
    "name": "ipython",
    "version": 3
   },
   "file_extension": ".py",
   "mimetype": "text/x-python",
   "name": "python",
   "nbconvert_exporter": "python",
   "pygments_lexer": "ipython3",
   "version": "3.6.5"
  }
 },
 "nbformat": 4,
 "nbformat_minor": 4
}
