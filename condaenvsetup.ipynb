{
 "cells": [
  {
   "cell_type": "markdown",
   "metadata": {},
   "source": [
    "# Setup conda environment for Intel Tensorflow & Stock Tensorflow. This is onetime job"
   ]
  },
  {
   "cell_type": "code",
   "execution_count": 1,
   "metadata": {},
   "outputs": [
    {
     "name": "stdout",
     "output_type": "stream",
     "text": [
      "/home/u71486\n"
     ]
    }
   ],
   "source": [
    "%cd"
   ]
  },
  {
   "cell_type": "code",
   "execution_count": 2,
   "metadata": {},
   "outputs": [
    {
     "name": "stdout",
     "output_type": "stream",
     "text": [
      "Writing setupenv.sh\n"
     ]
    }
   ],
   "source": [
    "%%writefile setupenv.sh\n",
    "\n",
    "#Remove old files \n",
    "rm -rf setupenv.sh.*\n",
    "\n",
    "#Create conda env: \n",
    "conda create -n stock-tensorflow python matplotlib ipykernel psutil pandas gitpython\n",
    "\n",
    "#Activate the created conda env: \n",
    "source activate stock-tensorflow\n",
    "\n",
    "#Install stock Tensorflow with a specific version:\n",
    "pip install tensorflow==2.3.0 cxxfilt \n",
    "\n",
    "\n",
    "#Deactivate conda env:\n",
    "conda deactivate\n",
    "\n",
    "#Register the kernel to Jupyter NB: \n",
    "~/.conda/envs/stock-tensorflow/bin/python -m ipykernel install --user --name=stock-tensorflow\n",
    "\n",
    "\n",
    "#Source oneAPI environment variables: \n",
    "source /opt/intel/inteloneapi/setvars.sh\n",
    "\n",
    "#Create conda env: \n",
    "conda create --name intel-tensorflow --clone tensorflow\n",
    "\n",
    "#Activate the created conda env: \n",
    "source activate intel-tensorflow\n",
    "\n",
    "#Install extra needed package:\n",
    "pip install cxxfilt matplotlib ipykernel psutil pandas gitpython\n",
    "\n",
    "#Deactivate conda env: \n",
    "conda deactivate\n",
    "\n",
    "#Register the kernel to Jupyter NB: \n",
    "~/.conda/envs/intel-tensorflow/bin/python -m ipykernel install --user --name=intel-tensorflow\n"
   ]
  },
  {
   "cell_type": "markdown",
   "metadata": {},
   "source": [
    "### check the content of setupenv.sh"
   ]
  },
  {
   "cell_type": "code",
   "execution_count": 3,
   "metadata": {},
   "outputs": [
    {
     "name": "stdout",
     "output_type": "stream",
     "text": [
      "\n",
      "    \n",
      "#Create conda env: \n",
      "conda create -n stock-tf python matplotlib ipykernel psutil pandas gitpython\n",
      "\n",
      "#Activate the created conda env: \n",
      "source activate stock-tf\n",
      "\n",
      "#Install stock Tensorflow with a specific version:\n",
      "pip install tensorflow==2.3.0 cxxfilt \n",
      "\n",
      "\n",
      "#Deactivate conda env:\n",
      "conda deactivate\n",
      "\n",
      "#Register the kernel to Jupyter NB: \n",
      "~/.conda/envs/stock-tf/bin/python -m ipykernel install --user --name=stock-tf\n",
      "\n",
      "\n",
      "#Source oneAPI environment variables: \n",
      "source /opt/intel/inteloneapi/setvars.sh\n",
      "\n",
      "#Create conda env: \n",
      "conda create --name intel-tf --clone tensorflow\n",
      "\n",
      "#Activate the created conda env: \n",
      "source activate intel-tf \n",
      "\n",
      "#Install extra needed package:\n",
      "pip install cxxfilt matplotlib ipykernel psutil pandas gitpython\n",
      "\n",
      "#Deactivate conda env: \n",
      "conda deactivate\n",
      "\n",
      "#Register the kernel to Jupyter NB: \n",
      "~/.conda/envs/intel-tf/bin/python -m ipykernel install --user --name=intel-tf\n"
     ]
    }
   ],
   "source": [
    "!cat setupenv.sh"
   ]
  },
  {
   "cell_type": "markdown",
   "metadata": {},
   "source": [
    "### Submit the job to the queue"
   ]
  },
  {
   "cell_type": "code",
   "execution_count": 4,
   "metadata": {},
   "outputs": [
    {
     "name": "stdout",
     "output_type": "stream",
     "text": [
      "898307.v-qsvr-1.aidevcloud\n"
     ]
    }
   ],
   "source": [
    "!qsub setupenv.sh -l nodes=1:ppn=2 -d ."
   ]
  },
  {
   "cell_type": "markdown",
   "metadata": {},
   "source": [
    "### Check the queue status "
   ]
  },
  {
   "cell_type": "code",
   "execution_count": 46,
   "metadata": {},
   "outputs": [
    {
     "name": "stdout",
     "output_type": "stream",
     "text": [
      "Job ID                    Name             User            Time Use S Queue\n",
      "------------------------- ---------------- --------------- -------- - -----\n",
      "898259.v-qsvr-1            ...ub-singleuser u71486          00:00:42 R jupyterhub     \n"
     ]
    }
   ],
   "source": [
    "!qstat"
   ]
  },
  {
   "cell_type": "markdown",
   "metadata": {},
   "source": [
    "### If the job status is finished, check the installed packages from content of the output file."
   ]
  },
  {
   "cell_type": "code",
   "execution_count": 47,
   "metadata": {},
   "outputs": [],
   "source": [
    "!grep -e \"Successfully\"  setupenv.sh.o*"
   ]
  },
  {
   "cell_type": "markdown",
   "metadata": {},
   "source": [
    "### Now you are ready for benchmarking. Close this Notebook. "
   ]
  }
 ],
 "metadata": {
  "kernelspec": {
   "display_name": "Python 3.7 (Intel® oneAPI)",
   "language": "python",
   "name": "c009-intel_distribution_of_python_3_oneapi-beta05-python"
  },
  "language_info": {
   "codemirror_mode": {
    "name": "ipython",
    "version": 3
   },
   "file_extension": ".py",
   "mimetype": "text/x-python",
   "name": "python",
   "nbconvert_exporter": "python",
   "pygments_lexer": "ipython3",
   "version": "3.7.9"
  }
 },
 "nbformat": 4,
 "nbformat_minor": 4
}
